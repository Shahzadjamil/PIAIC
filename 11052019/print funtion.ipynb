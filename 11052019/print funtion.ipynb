{
 "cells": [
  {
   "cell_type": "code",
   "execution_count": 2,
   "metadata": {},
   "outputs": [
    {
     "name": "stdout",
     "output_type": "stream",
     "text": [
      "Pakistan Zindabad\n"
     ]
    }
   ],
   "source": [
    "print(\"Pakistan Zindabad\")"
   ]
  },
  {
   "cell_type": "code",
   "execution_count": 3,
   "metadata": {},
   "outputs": [
    {
     "name": "stdout",
     "output_type": "stream",
     "text": [
      "shahzad jamil 26\n"
     ]
    }
   ],
   "source": [
    "print(\"shahzad\",\"jamil\",26)"
   ]
  },
  {
   "cell_type": "code",
   "execution_count": 7,
   "metadata": {},
   "outputs": [
    {
     "name": "stdout",
     "output_type": "stream",
     "text": [
      "shahzad\n",
      "jamil\n",
      "26\n"
     ]
    }
   ],
   "source": [
    "print(\"shahzad\",\"jamil\",26, sep=\"\\n\")"
   ]
  },
  {
   "cell_type": "code",
   "execution_count": 6,
   "metadata": {},
   "outputs": [
    {
     "name": "stdout",
     "output_type": "stream",
     "text": [
      "shahzad\tjamil\t26\n"
     ]
    }
   ],
   "source": [
    "print(\"shahzad\",\"jamil\",26, sep=\"\\t\")"
   ]
  },
  {
   "cell_type": "code",
   "execution_count": 11,
   "metadata": {},
   "outputs": [
    {
     "name": "stdout",
     "output_type": "stream",
     "text": [
      "shahzad\tjamil\t26\n",
      "shahzad\tjamil\t26 "
     ]
    }
   ],
   "source": [
    "print(\"shahzad\",\"jamil\",26, sep=\"\\t\")\n",
    "print(\"shahzad\",\"jamil\",26, sep=\"\\t\", end=\" \")"
   ]
  },
  {
   "cell_type": "code",
   "execution_count": 12,
   "metadata": {},
   "outputs": [
    {
     "name": "stdout",
     "output_type": "stream",
     "text": [
      "shahzad\tjamil\t26 >> shahzad\tjamil\t26\n"
     ]
    }
   ],
   "source": [
    "print(\"shahzad\",\"jamil\",26, sep=\"\\t\", end=\" >> \")\n",
    "print(\"shahzad\",\"jamil\",26, sep=\"\\t\")"
   ]
  },
  {
   "cell_type": "code",
   "execution_count": null,
   "metadata": {},
   "outputs": [],
   "source": []
  },
  {
   "cell_type": "code",
   "execution_count": null,
   "metadata": {},
   "outputs": [],
   "source": []
  }
 ],
 "metadata": {
  "kernelspec": {
   "display_name": "Python 3",
   "language": "python",
   "name": "python3"
  },
  "language_info": {
   "codemirror_mode": {
    "name": "ipython",
    "version": 3
   },
   "file_extension": ".py",
   "mimetype": "text/x-python",
   "name": "python",
   "nbconvert_exporter": "python",
   "pygments_lexer": "ipython3",
   "version": "3.7.3"
  }
 },
 "nbformat": 4,
 "nbformat_minor": 2
}
